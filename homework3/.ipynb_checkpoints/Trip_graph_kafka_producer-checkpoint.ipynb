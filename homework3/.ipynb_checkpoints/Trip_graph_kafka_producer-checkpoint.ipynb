{
 "cells": [
  {
   "cell_type": "code",
   "execution_count": 1,
   "metadata": {
    "executionInfo": {
     "elapsed": 41,
     "status": "ok",
     "timestamp": 1663937278256,
     "user": {
      "displayName": "chantana chantrapornchai",
      "userId": "13841202697933863578"
     },
     "user_tz": -420
    },
    "id": "o1crQTSqrIYo"
   },
   "outputs": [],
   "source": [
    "from __future__ import unicode_literals\n",
    "from kafka import KafkaConsumer, KafkaProducer\n",
    "import json\n",
    "from time import sleep\n",
    "import csv"
   ]
  },
  {
   "cell_type": "code",
   "execution_count": 2,
   "metadata": {
    "executionInfo": {
     "elapsed": 6,
     "status": "ok",
     "timestamp": 1663937283866,
     "user": {
      "displayName": "chantana chantrapornchai",
      "userId": "13841202697933863578"
     },
     "user_tz": -420
    },
    "id": "te8EMvB8rIYq"
   },
   "outputs": [],
   "source": [
    "def publish_message(producer_instance, topic_name, key, value):\n",
    "    try:\n",
    "        #print(key)\n",
    "        #print(value)\n",
    "        key_bytes =  bytes(key, encoding='utf-8')   #.encode('utf-8')\n",
    "        value_bytes = bytes(value, encoding='utf-8') #encode('utf-8')\n",
    "        \n",
    "        producer_instance.send(topic_name, key=key_bytes, value=value_bytes)\n",
    "        #print(value_bytes)\n",
    "        producer_instance.flush()\n",
    "        print('Message published successfully.')\n",
    "    except Exception as ex:\n",
    "        print('Exception in publishing message')\n",
    "        print(str(ex))\n",
    "\n",
    "\n",
    "def connect_kafka_producer():\n",
    "    _producer = None\n",
    "    try:\n",
    "        _producer = KafkaProducer(bootstrap_servers=['localhost:9092'], api_version=(0, 10))\n",
    "    except Exception as ex:\n",
    "        print('Exception while connecting Kafka')\n",
    "        print(str(ex))\n",
    "    finally:\n",
    "        return _producer"
   ]
  },
  {
   "cell_type": "code",
   "execution_count": null,
   "metadata": {
    "colab": {
     "base_uri": "https://localhost:8080/"
    },
    "executionInfo": {
     "elapsed": 12486,
     "status": "ok",
     "timestamp": 1663937824416,
     "user": {
      "displayName": "chantana chantrapornchai",
      "userId": "13841202697933863578"
     },
     "user_tz": -420
    },
    "id": "xrmSrwHmrIYq",
    "outputId": "e6454055-6ccf-4e94-b838-0cd6787f28f4",
    "scrolled": true
   },
   "outputs": [],
   "source": [
    "def load_station_coordinates(station_csv_path):\n",
    "    coord_lookup = {}\n",
    "    with open(station_csv_path, mode='r') as f:\n",
    "        reader = csv.DictReader(f)\n",
    "        for row in reader:\n",
    "            station_id = row['id']\n",
    "            lat = row['lat']\n",
    "            lon = row['long']\n",
    "            coord_lookup[station_id] = (lat, lon)\n",
    "    return coord_lookup\n",
    "    \n",
    "def send_trip_data_with_coords(trip_csv_path, station_csv_path, topic):\n",
    "    coord_lookup = load_station_coordinates(station_csv_path)\n",
    "    producer = connect_kafka_producer()\n",
    "    \n",
    "    with open(trip_csv_path, mode='r') as f:\n",
    "        reader = csv.reader(f)\n",
    "        header = next(reader)\n",
    "        for i, row in enumerate(reader):\n",
    "            if len(row) < 8:\n",
    "                continue \n",
    "\n",
    "            start_station_id = row[4]\n",
    "            end_station_id = row[7]\n",
    "\n",
    "            start_coords = coord_lookup.get(start_station_id, (\"\", \"\"))\n",
    "            end_coords = coord_lookup.get(end_station_id, (\"\", \"\"))\n",
    "\n",
    "            enriched_row = row + list(start_coords) + list(end_coords)\n",
    "            enriched_line = \",\".join(enriched_row)\n",
    "            publish_message(producer, topic, str(i), enriched_line)\n",
    "            print(enriched_line)\n",
    "            sleep(1)\n",
    "\n",
    "    producer.close()\n",
    "\n",
    "if __name__ == '__main__':\n",
    "    topic = 'trip_data'\n",
    "    trip_csv_path = 'trip.csv'\n",
    "    station_csv_path = 'station.csv'\n",
    "\n",
    "    send_trip_data_with_coords(trip_csv_path, station_csv_path, topic)"
   ]
  },
  {
   "cell_type": "code",
   "execution_count": null,
   "metadata": {
    "colab": {
     "base_uri": "https://localhost:8080/"
    },
    "executionInfo": {
     "elapsed": 12486,
     "status": "ok",
     "timestamp": 1663937824416,
     "user": {
      "displayName": "chantana chantrapornchai",
      "userId": "13841202697933863578"
     },
     "user_tz": -420
    },
    "id": "xrmSrwHmrIYq",
    "outputId": "e6454055-6ccf-4e94-b838-0cd6787f28f4",
    "scrolled": true
   },
   "outputs": [],
   "source": [
    "# if __name__ == '__main__':\n",
    "#     headers = {\n",
    "#         'User-Agent': 'Mozilla/5.0 (Macintosh; Intel Mac OS X 10_11_6) AppleWebKit/537.36 (KHTML, like Gecko) Chrome/66.0.3359.181 Safari/537.36',\n",
    "#         'Pragma': 'no-cache'\n",
    "#     }\n",
    "#     url =  'https://www.allrecipes.com/recipes/702/world-cuisine/asian/thai/'\n",
    "#     all_recipes = get_recipes(url)\n",
    "#     #print( all_recipes )\n",
    "    \n",
    "     \n",
    "#     if len(all_recipes) > 0:\n",
    "#         kafka_producer = connect_kafka_producer()\n",
    "#         for count, recipe in enumerate(all_recipes, start=1):\n",
    "             \n",
    "#             publish_message(kafka_producer, 'raw_recipes', 'raw', recipe.strip())\n",
    "#             if count > 3:\n",
    "#                 break\n",
    "#         if kafka_producer is not None:\n",
    "#             kafka_producer.close()"
   ]
  }
 ],
 "metadata": {
  "colab": {
   "collapsed_sections": [],
   "provenance": []
  },
  "kernelspec": {
   "display_name": "Python 3 (ipykernel)",
   "language": "python",
   "name": "python3"
  },
  "language_info": {
   "codemirror_mode": {
    "name": "ipython",
    "version": 3
   },
   "file_extension": ".py",
   "mimetype": "text/x-python",
   "name": "python",
   "nbconvert_exporter": "python",
   "pygments_lexer": "ipython3",
   "version": "3.10.12"
  }
 },
 "nbformat": 4,
 "nbformat_minor": 4
}
