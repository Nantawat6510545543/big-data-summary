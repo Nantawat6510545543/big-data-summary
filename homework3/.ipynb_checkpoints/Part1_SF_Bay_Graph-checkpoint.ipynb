{
 "cells": [
  {
   "cell_type": "code",
   "execution_count": 2,
   "id": "6d703dd7-1080-4a6e-bf99-e529a65a2ca0",
   "metadata": {},
   "outputs": [
    {
     "name": "stderr",
     "output_type": "stream",
     "text": [
      "                                                                                "
     ]
    },
    {
     "name": "stdout",
     "output_type": "stream",
     "text": [
      "+---+--------------------+---------+-------------------+----------+--------+-----------------+\n",
      "| id|                name|      lat|               long|dock_count|    city|installation_date|\n",
      "+---+--------------------+---------+-------------------+----------+--------+-----------------+\n",
      "|  2|San Jose Diridon ...|37.329732|-121.90178200000001|        27|San Jose|         8/6/2013|\n",
      "|  3|San Jose Civic Ce...|37.330698|        -121.888979|        15|San Jose|         8/5/2013|\n",
      "|  4|Santa Clara at Al...|37.333988|        -121.894902|        11|San Jose|         8/6/2013|\n",
      "+---+--------------------+---------+-------------------+----------+--------+-----------------+\n",
      "only showing top 3 rows\n",
      "\n",
      "+----+--------+---------------+--------------------+----------------+---------------+--------------------+--------------+-------+-----------------+--------+\n",
      "|  id|duration|     start_date|  start_station_name|start_station_id|       end_date|    end_station_name|end_station_id|bike_id|subscription_type|zip_code|\n",
      "+----+--------+---------------+--------------------+----------------+---------------+--------------------+--------------+-------+-----------------+--------+\n",
      "|4576|      63|8/29/2013 14:13|South Van Ness at...|              66|8/29/2013 14:14|South Van Ness at...|            66|    520|       Subscriber|   94127|\n",
      "|4607|      70|8/29/2013 14:42|  San Jose City Hall|              10|8/29/2013 14:43|  San Jose City Hall|            10|    661|       Subscriber|   95138|\n",
      "|4130|      71|8/29/2013 10:16|Mountain View Cit...|              27|8/29/2013 10:17|Mountain View Cit...|            27|     48|       Subscriber|   97214|\n",
      "+----+--------+---------------+--------------------+----------------+---------------+--------------------+--------------+-------+-----------------+--------+\n",
      "only showing top 3 rows\n",
      "\n"
     ]
    }
   ],
   "source": [
    "from pyspark.sql import SparkSession\n",
    "from pyspark.sql.functions import col\n",
    "from graphframes import GraphFrame\n",
    "\n",
    "spark = SparkSession.builder \\\n",
    "    .appName(\"Graph Analysis with GraphFrames\") \\\n",
    "    .getOrCreate()\n",
    "\n",
    "stations = spark.read.csv(\"station.csv\", header=True, inferSchema=True)\n",
    "trips = spark.read.csv(\"trip.csv\", header=True, inferSchema=True)\n",
    "\n",
    "stations.show(3)\n",
    "trips.show(3)"
   ]
  },
  {
   "cell_type": "code",
   "execution_count": null,
   "id": "f6af2b49-545c-4dff-b671-5515f6bf72e6",
   "metadata": {},
   "outputs": [],
   "source": []
  }
 ],
 "metadata": {
  "kernelspec": {
   "display_name": "Python 3 (ipykernel)",
   "language": "python",
   "name": "python3"
  },
  "language_info": {
   "codemirror_mode": {
    "name": "ipython",
    "version": 3
   },
   "file_extension": ".py",
   "mimetype": "text/x-python",
   "name": "python",
   "nbconvert_exporter": "python",
   "pygments_lexer": "ipython3",
   "version": "3.10.12"
  }
 },
 "nbformat": 4,
 "nbformat_minor": 5
}
