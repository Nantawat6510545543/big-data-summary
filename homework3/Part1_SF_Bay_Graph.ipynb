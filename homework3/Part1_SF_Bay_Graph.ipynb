{
 "cells": [
  {
   "cell_type": "markdown",
   "id": "247720f1-9e89-4ac1-a97d-7990d79ced89",
   "metadata": {},
   "source": [
    "## 1. Create the data frames for vertices, edges, and then create graph."
   ]
  },
  {
   "cell_type": "code",
   "execution_count": 1,
   "id": "ab9923f0-b77f-4ee5-9b63-48eb8b54ef89",
   "metadata": {},
   "outputs": [],
   "source": [
    "from graphframes import *"
   ]
  },
  {
   "cell_type": "code",
   "execution_count": 2,
   "id": "6d703dd7-1080-4a6e-bf99-e529a65a2ca0",
   "metadata": {},
   "outputs": [],
   "source": [
    "from pyspark import SparkContext\n",
    "from pyspark.streaming import StreamingContext\n",
    "from pyspark.sql import SQLContext\n",
    "from pyspark.sql.functions import desc"
   ]
  },
  {
   "cell_type": "code",
   "execution_count": 3,
   "id": "89f90035-a7c7-4ded-be80-58e03db77a75",
   "metadata": {},
   "outputs": [
    {
     "name": "stderr",
     "output_type": "stream",
     "text": [
      "25/04/12 14:03:02 WARN Utils: Your hostname, bigdata2024 resolves to a loopback address: 127.0.1.1; using 10.3.132.222 instead (on interface ens3)\n",
      "25/04/12 14:03:02 WARN Utils: Set SPARK_LOCAL_IP if you need to bind to another address\n"
     ]
    },
    {
     "name": "stdout",
     "output_type": "stream",
     "text": [
      ":: loading settings :: url = jar:file:/home/hadoop/.local/lib/python3.10/site-packages/pyspark/jars/ivy-2.5.1.jar!/org/apache/ivy/core/settings/ivysettings.xml\n"
     ]
    },
    {
     "name": "stderr",
     "output_type": "stream",
     "text": [
      "Ivy Default Cache set to: /home/hadoop/.ivy2/cache\n",
      "The jars for the packages stored in: /home/hadoop/.ivy2/jars\n",
      "graphframes#graphframes added as a dependency\n",
      ":: resolving dependencies :: org.apache.spark#spark-submit-parent-4771b758-128e-48de-a0c0-9ba510b40d05;1.0\n",
      "\tconfs: [default]\n",
      "\tfound graphframes#graphframes;0.8.2-spark3.2-s_2.12 in spark-packages\n",
      "\tfound org.slf4j#slf4j-api;1.7.16 in central\n",
      ":: resolution report :: resolve 122ms :: artifacts dl 5ms\n",
      "\t:: modules in use:\n",
      "\tgraphframes#graphframes;0.8.2-spark3.2-s_2.12 from spark-packages in [default]\n",
      "\torg.slf4j#slf4j-api;1.7.16 from central in [default]\n",
      "\t---------------------------------------------------------------------\n",
      "\t|                  |            modules            ||   artifacts   |\n",
      "\t|       conf       | number| search|dwnlded|evicted|| number|dwnlded|\n",
      "\t---------------------------------------------------------------------\n",
      "\t|      default     |   2   |   0   |   0   |   0   ||   2   |   0   |\n",
      "\t---------------------------------------------------------------------\n",
      ":: retrieving :: org.apache.spark#spark-submit-parent-4771b758-128e-48de-a0c0-9ba510b40d05\n",
      "\tconfs: [default]\n",
      "\t0 artifacts copied, 2 already retrieved (0kB/4ms)\n",
      "25/04/12 14:03:03 WARN NativeCodeLoader: Unable to load native-hadoop library for your platform... using builtin-java classes where applicable\n",
      "Setting default log level to \"WARN\".\n",
      "To adjust logging level use sc.setLogLevel(newLevel). For SparkR, use setLogLevel(newLevel).\n"
     ]
    }
   ],
   "source": [
    "import os\n",
    "from pyspark.sql import SparkSession\n",
    "os.environ['PYSPARK_PYTHON'] = \"/usr/bin/python3\"\n",
    "spark = SparkSession.builder.appName(\"graph processing\")\\\n",
    ".config(\"spark.jars.packages\",\"graphframes:graphframes:0.8.2-spark3.2-s_2.12\") \\\n",
    ".master(\"local[*]\").getOrCreate()"
   ]
  },
  {
   "cell_type": "code",
   "execution_count": 4,
   "id": "2fcca689-c09d-43b1-bda1-d57ba1d72732",
   "metadata": {},
   "outputs": [
    {
     "name": "stderr",
     "output_type": "stream",
     "text": [
      "                                                                                "
     ]
    },
    {
     "name": "stdout",
     "output_type": "stream",
     "text": [
      "+---+--------------------+---------+-------------------+----------+--------+-----------------+\n",
      "| id|                name|      lat|               long|dock_count|    city|installation_date|\n",
      "+---+--------------------+---------+-------------------+----------+--------+-----------------+\n",
      "|  2|San Jose Diridon ...|37.329732|-121.90178200000001|        27|San Jose|         8/6/2013|\n",
      "|  3|San Jose Civic Ce...|37.330698|        -121.888979|        15|San Jose|         8/5/2013|\n",
      "|  4|Santa Clara at Al...|37.333988|        -121.894902|        11|San Jose|         8/6/2013|\n",
      "+---+--------------------+---------+-------------------+----------+--------+-----------------+\n",
      "only showing top 3 rows\n",
      "\n",
      "+----+--------+---------------+--------------------+----------------+---------------+--------------------+--------------+-------+-----------------+--------+\n",
      "|  id|duration|     start_date|  start_station_name|start_station_id|       end_date|    end_station_name|end_station_id|bike_id|subscription_type|zip_code|\n",
      "+----+--------+---------------+--------------------+----------------+---------------+--------------------+--------------+-------+-----------------+--------+\n",
      "|4576|      63|8/29/2013 14:13|South Van Ness at...|              66|8/29/2013 14:14|South Van Ness at...|            66|    520|       Subscriber|   94127|\n",
      "|4607|      70|8/29/2013 14:42|  San Jose City Hall|              10|8/29/2013 14:43|  San Jose City Hall|            10|    661|       Subscriber|   95138|\n",
      "|4130|      71|8/29/2013 10:16|Mountain View Cit...|              27|8/29/2013 10:17|Mountain View Cit...|            27|     48|       Subscriber|   97214|\n",
      "+----+--------+---------------+--------------------+----------------+---------------+--------------------+--------------+-------+-----------------+--------+\n",
      "only showing top 3 rows\n",
      "\n"
     ]
    }
   ],
   "source": [
    "stations = spark.read.csv(\"station.csv\", header=True, inferSchema=True)\n",
    "trips = spark.read.csv(\"trip.csv\", header=True, inferSchema=True)\n",
    "\n",
    "stations.show(3)\n",
    "trips.show(3)"
   ]
  },
  {
   "cell_type": "code",
   "execution_count": 5,
   "id": "f6af2b49-545c-4dff-b671-5515f6bf72e6",
   "metadata": {},
   "outputs": [
    {
     "name": "stdout",
     "output_type": "stream",
     "text": [
      "+---+--------------------+---------+-------------------+----------+--------+-----------------+\n",
      "| id|                name|      lat|               long|dock_count|    city|installation_date|\n",
      "+---+--------------------+---------+-------------------+----------+--------+-----------------+\n",
      "|  2|San Jose Diridon ...|37.329732|-121.90178200000001|        27|San Jose|         8/6/2013|\n",
      "|  3|San Jose Civic Ce...|37.330698|        -121.888979|        15|San Jose|         8/5/2013|\n",
      "|  4|Santa Clara at Al...|37.333988|        -121.894902|        11|San Jose|         8/6/2013|\n",
      "+---+--------------------+---------+-------------------+----------+--------+-----------------+\n",
      "only showing top 3 rows\n",
      "\n",
      "+---+---+--------+\n",
      "|src|dst|duration|\n",
      "+---+---+--------+\n",
      "| 66| 66|      63|\n",
      "| 10| 10|      70|\n",
      "| 27| 27|      71|\n",
      "+---+---+--------+\n",
      "only showing top 3 rows\n",
      "\n"
     ]
    }
   ],
   "source": [
    "vertices = stations.selectExpr(\"id as id\", \"name\", \"lat\", \"long\", \"dock_count\", \"city\", \"installation_date\")\n",
    "edges = trips.selectExpr(\"start_station_id as src\", \"end_station_id as dst\", \"duration\")\n",
    "\n",
    "vertices.show(3)\n",
    "edges.show(3)"
   ]
  },
  {
   "cell_type": "code",
   "execution_count": 6,
   "id": "781be048-dc5c-45c6-9e0f-6477c71bb47e",
   "metadata": {},
   "outputs": [
    {
     "name": "stderr",
     "output_type": "stream",
     "text": [
      "/home/hadoop/.local/lib/python3.10/site-packages/pyspark/sql/dataframe.py:168: UserWarning: DataFrame.sql_ctx is an internal property, and will be removed in future releases. Use DataFrame.sparkSession instead.\n",
      "  warnings.warn(\n"
     ]
    }
   ],
   "source": [
    "g = GraphFrame(vertices, edges)"
   ]
  },
  {
   "cell_type": "markdown",
   "id": "bb405048-2d97-4257-a73e-541afe0dcae9",
   "metadata": {},
   "source": [
    "## 2. Find the indegree and outdegree of all  stations."
   ]
  },
  {
   "cell_type": "code",
   "execution_count": 7,
   "id": "3a39ae56-af41-42cc-83d3-6e17d3ceca89",
   "metadata": {},
   "outputs": [
    {
     "name": "stderr",
     "output_type": "stream",
     "text": [
      "/home/hadoop/.local/lib/python3.10/site-packages/pyspark/sql/dataframe.py:147: UserWarning: DataFrame constructor is internal. Do not directly use it.\n",
      "  warnings.warn(\"DataFrame constructor is internal. Do not directly use it.\")\n"
     ]
    },
    {
     "name": "stdout",
     "output_type": "stream",
     "text": [
      "In-Degree:\n"
     ]
    },
    {
     "name": "stderr",
     "output_type": "stream",
     "text": [
      "                                                                                "
     ]
    },
    {
     "name": "stdout",
     "output_type": "stream",
     "text": [
      "+---+--------+\n",
      "| id|inDegree|\n",
      "+---+--------+\n",
      "| 31|    1832|\n",
      "| 65|   26637|\n",
      "| 34|    1819|\n",
      "| 28|    6719|\n",
      "| 76|   19915|\n",
      "| 27|    3284|\n",
      "| 26|     452|\n",
      "| 12|    1437|\n",
      "| 22|    1255|\n",
      "| 47|    9269|\n",
      "| 13|    1488|\n",
      "|  6|    3163|\n",
      "| 16|    1473|\n",
      "|  3|    1786|\n",
      "| 57|   14849|\n",
      "| 54|   13144|\n",
      "| 48|   12313|\n",
      "|  5|    1169|\n",
      "| 64|   16843|\n",
      "| 41|    9936|\n",
      "+---+--------+\n",
      "only showing top 20 rows\n",
      "\n",
      "Out-Degree:\n",
      "+---+---------+\n",
      "| id|outDegree|\n",
      "+---+---------+\n",
      "| 31|     1818|\n",
      "| 65|    23724|\n",
      "| 34|     2111|\n",
      "| 28|     6544|\n",
      "| 76|    20165|\n",
      "| 27|     2984|\n",
      "| 26|      311|\n",
      "| 12|     1170|\n",
      "| 22|     1554|\n",
      "| 47|     9463|\n",
      "| 13|     1680|\n",
      "|  6|     2917|\n",
      "| 16|     1473|\n",
      "|  3|     1594|\n",
      "| 57|    13526|\n",
      "| 54|    14811|\n",
      "| 48|    10592|\n",
      "|  5|     1257|\n",
      "| 64|    18496|\n",
      "| 41|     9994|\n",
      "+---+---------+\n",
      "only showing top 20 rows\n",
      "\n"
     ]
    }
   ],
   "source": [
    "in_degree = g.inDegrees\n",
    "out_degree = g.outDegrees\n",
    "\n",
    "print(\"In-Degree:\")\n",
    "in_degree.show()\n",
    "\n",
    "print(\"Out-Degree:\")\n",
    "out_degree.show()"
   ]
  },
  {
   "cell_type": "markdown",
   "id": "420b507a-f616-49ad-908d-92a923e140ae",
   "metadata": {},
   "source": [
    "## 3. Find any two stations that have distance greater than 5 km."
   ]
  },
  {
   "cell_type": "code",
   "execution_count": 8,
   "id": "8f9d56a2-333e-445a-9b7b-0a8b5f5678c8",
   "metadata": {},
   "outputs": [
    {
     "name": "stdout",
     "output_type": "stream",
     "text": [
      "+---+---+--------------------+--------------------+---------+-------------------+------------------+-------------------+-----------------+\n",
      "|id1|id2|               name1|               name2|     lat1|               lon1|              lat2|               lon2|         distance|\n",
      "+---+---+--------------------+--------------------+---------+-------------------+------------------+-------------------+-----------------+\n",
      "|  2| 21|San Jose Diridon ...|   Franklin at Maple|37.329732|-121.90178200000001|         37.481758|        -122.226904|33.32341902182416|\n",
      "|  2| 22|San Jose Diridon ...|Redwood City Calt...|37.329732|-121.90178200000001|37.486078000000006|-122.23208899999999|33.96153918542211|\n",
      "+---+---+--------------------+--------------------+---------+-------------------+------------------+-------------------+-----------------+\n",
      "only showing top 2 rows\n",
      "\n"
     ]
    }
   ],
   "source": [
    "from pyspark.sql.functions import col, radians, sin, cos, sqrt, asin\n",
    "\n",
    "station_pairs = stations.alias(\"a\").crossJoin(stations.alias(\"b\")).filter(\"a.id < b.id\")  \n",
    "\n",
    "earth_radius = 6371  # km\n",
    "\n",
    "distances = station_pairs.selectExpr(\n",
    "    \"a.id as id1\", \"b.id as id2\",\n",
    "    \"a.name as name1\", \"b.name as name2\",\n",
    "    \"a.lat as lat1\", \"a.long as lon1\",\n",
    "    \"b.lat as lat2\", \"b.long as lon2\"\n",
    ").withColumn(\n",
    "    \"distance\",\n",
    "    earth_radius * 2 * asin(sqrt(\n",
    "        sin((radians(col(\"lat2\") - col(\"lat1\")))/2)**2 +\n",
    "        cos(radians(col(\"lat1\"))) * cos(radians(col(\"lat2\"))) *\n",
    "        sin((radians(col(\"lon2\") - col(\"lon1\")))/2)**2\n",
    "    ))\n",
    ")\n",
    "\n",
    "distances.filter(\"distance > 5\").show(2)"
   ]
  },
  {
   "cell_type": "markdown",
   "id": "69e2d68e-a8e7-4f8d-bd87-4032a6e7883f",
   "metadata": {},
   "source": [
    "## 4. Find any two station A,C that are connected by any one hop B and have the  total distance is greater than 150."
   ]
  },
  {
   "cell_type": "code",
   "execution_count": 9,
   "id": "a7a1bb0e-51ed-44da-99c8-089e97b273c2",
   "metadata": {},
   "outputs": [
    {
     "name": "stderr",
     "output_type": "stream",
     "text": [
      "[Stage 17:==============>                                           (1 + 3) / 4]"
     ]
    },
    {
     "name": "stdout",
     "output_type": "stream",
     "text": [
      "+---+---+---+--------------+\n",
      "|  A|  B|  C|total_duration|\n",
      "+---+---+---+--------------+\n",
      "|  5|  3|  8|           376|\n",
      "|  5|  3|  6|           573|\n",
      "|  5|  3|  2|           597|\n",
      "|  5|  3| 13|           783|\n",
      "|  5|  3| 13|           797|\n",
      "+---+---+---+--------------+\n",
      "only showing top 5 rows\n",
      "\n"
     ]
    },
    {
     "name": "stderr",
     "output_type": "stream",
     "text": [
      "                                                                                "
     ]
    }
   ],
   "source": [
    "triplets = g.edges.alias(\"e1\") \\\n",
    "    .join(g.edges.alias(\"e2\"), col(\"e1.dst\") == col(\"e2.src\")) \\\n",
    "    .select(\n",
    "        col(\"e1.src\").alias(\"A\"),\n",
    "        col(\"e1.dst\").alias(\"B\"),\n",
    "        col(\"e2.dst\").alias(\"C\"),\n",
    "        (col(\"e1.duration\") + col(\"e2.duration\")).alias(\"total_duration\")\n",
    "    )\n",
    "\n",
    "triplets.filter(\"total_duration > 150\").show(5)"
   ]
  },
  {
   "cell_type": "markdown",
   "id": "e3acfe05-9122-499b-ac94-a03b6b7e8d95",
   "metadata": {},
   "source": [
    "## 5. Run PageRank to find the importance of all stations."
   ]
  },
  {
   "cell_type": "code",
   "execution_count": 10,
   "id": "f314c69b-b5c2-474b-bb9a-5eea3f35d401",
   "metadata": {},
   "outputs": [
    {
     "name": "stderr",
     "output_type": "stream",
     "text": [
      "                                                                                "
     ]
    },
    {
     "name": "stdout",
     "output_type": "stream",
     "text": [
      "+---+--------------------+------------------+\n",
      "| id|                name|          pagerank|\n",
      "+---+--------------------+------------------+\n",
      "|  2|San Jose Diridon ...|3.5440610635004215|\n",
      "| 70|San Francisco Cal...|3.2563572520336965|\n",
      "| 28|Mountain View Cal...|2.3963182860250067|\n",
      "| 22|Redwood City Calt...|    2.222023327527|\n",
      "| 69|San Francisco Cal...|1.8817145911284543|\n",
      "| 50|Harry Bridges Pla...|1.8146546040805573|\n",
      "| 60|Embarcadero at Sa...|1.6784180823085506|\n",
      "| 61|     2nd at Townsend|1.5408450673682548|\n",
      "| 77|   Market at Sansome|1.4703197568612667|\n",
      "| 65|     Townsend at 7th|1.4597489702478772|\n",
      "+---+--------------------+------------------+\n",
      "only showing top 10 rows\n",
      "\n"
     ]
    }
   ],
   "source": [
    "results = g.pageRank(resetProbability=0.15, maxIter=10)\n",
    "\n",
    "results.vertices.select(\"id\", \"name\", \"pagerank\").orderBy(\"pagerank\", ascending=False).show(10)"
   ]
  }
 ],
 "metadata": {
  "kernelspec": {
   "display_name": "Python 3 (ipykernel)",
   "language": "python",
   "name": "python3"
  },
  "language_info": {
   "codemirror_mode": {
    "name": "ipython",
    "version": 3
   },
   "file_extension": ".py",
   "mimetype": "text/x-python",
   "name": "python",
   "nbconvert_exporter": "python",
   "pygments_lexer": "ipython3",
   "version": "3.10.12"
  }
 },
 "nbformat": 4,
 "nbformat_minor": 5
}
