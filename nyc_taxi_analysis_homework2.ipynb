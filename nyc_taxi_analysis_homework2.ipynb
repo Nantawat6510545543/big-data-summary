{
 "cells": [
  {
   "cell_type": "code",
   "execution_count": 100,
   "id": "a69596ec-1b4e-4f19-a571-be0f32671980",
   "metadata": {},
   "outputs": [],
   "source": [
    "from pyhive import hive\n",
    "\n",
    "host_name = \"localhost\"\n",
    "port = 10000  #default is 10000\n",
    "user = \"root\" # user name mysql \n",
    "password = \"password\" # pass mysql\n",
    "database=\"default\"\n",
    "\n",
    "conn = hive.Connection(host=host_name, port=port, username=user,password=password,\n",
    "                       database=database, auth='CUSTOM')\n",
    "def run_query(query):\n",
    "    cur = conn.cursor()\n",
    "    cur.execute(query)\n",
    "    result = cur.fetchall()\n",
    "    return result"
   ]
  },
  {
   "cell_type": "code",
   "execution_count": 2,
   "id": "84ef86ad-afc8-4219-8b10-9c7115dfcf63",
   "metadata": {},
   "outputs": [],
   "source": [
    "!source ~/.bashrc"
   ]
  },
  {
   "cell_type": "code",
   "execution_count": 16,
   "id": "9f969e01-a0ea-4046-bd9c-3c8daf84ae1f",
   "metadata": {},
   "outputs": [
    {
     "name": "stdout",
     "output_type": "stream",
     "text": [
      "WARNING: Use of this script to execute dfs is deprecated.\n",
      "WARNING: Attempting to execute replacement \"hdfs dfs\" instead.\n",
      "\n",
      "2025-03-03 23:41:48,960 INFO sasl.SaslDataTransferClient: SASL encryption trust check: localHostTrusted = false, remoteHostTrusted = false\n",
      "2025-03-03 23:41:49,469 INFO sasl.SaslDataTransferClient: SASL encryption trust check: localHostTrusted = false, remoteHostTrusted = false\n",
      "2025-03-03 23:41:49,876 INFO sasl.SaslDataTransferClient: SASL encryption trust check: localHostTrusted = false, remoteHostTrusted = false\n",
      "2025-03-03 23:41:50,221 INFO sasl.SaslDataTransferClient: SASL encryption trust check: localHostTrusted = false, remoteHostTrusted = false\n",
      "2025-03-03 23:41:50,616 INFO sasl.SaslDataTransferClient: SASL encryption trust check: localHostTrusted = false, remoteHostTrusted = false\n",
      "2025-03-03 23:41:51,084 INFO sasl.SaslDataTransferClient: SASL encryption trust check: localHostTrusted = false, remoteHostTrusted = false\n",
      "2025-03-03 23:41:51,602 INFO sasl.SaslDataTransferClient: SASL encryption trust check: localHostTrusted = false, remoteHostTrusted = false\n",
      "2025-03-03 23:41:52,126 INFO sasl.SaslDataTransferClient: SASL encryption trust check: localHostTrusted = false, remoteHostTrusted = false\n",
      "2025-03-03 23:41:52,599 INFO sasl.SaslDataTransferClient: SASL encryption trust check: localHostTrusted = false, remoteHostTrusted = false\n",
      "2025-03-03 23:41:53,112 INFO sasl.SaslDataTransferClient: SASL encryption trust check: localHostTrusted = false, remoteHostTrusted = false\n",
      "2025-03-03 23:41:53,715 INFO sasl.SaslDataTransferClient: SASL encryption trust check: localHostTrusted = false, remoteHostTrusted = false\n",
      "2025-03-03 23:41:54,544 INFO sasl.SaslDataTransferClient: SASL encryption trust check: localHostTrusted = false, remoteHostTrusted = false\n",
      "2025-03-03 23:41:55,414 INFO sasl.SaslDataTransferClient: SASL encryption trust check: localHostTrusted = false, remoteHostTrusted = false\n",
      "2025-03-03 23:41:56,347 INFO sasl.SaslDataTransferClient: SASL encryption trust check: localHostTrusted = false, remoteHostTrusted = false\n",
      "2025-03-03 23:41:57,234 INFO sasl.SaslDataTransferClient: SASL encryption trust check: localHostTrusted = false, remoteHostTrusted = false\n",
      "2025-03-03 23:41:58,190 INFO sasl.SaslDataTransferClient: SASL encryption trust check: localHostTrusted = false, remoteHostTrusted = false\n",
      "2025-03-03 23:41:59,094 INFO sasl.SaslDataTransferClient: SASL encryption trust check: localHostTrusted = false, remoteHostTrusted = false\n",
      "2025-03-03 23:42:00,018 INFO sasl.SaslDataTransferClient: SASL encryption trust check: localHostTrusted = false, remoteHostTrusted = false\n",
      "2025-03-03 23:42:00,946 INFO sasl.SaslDataTransferClient: SASL encryption trust check: localHostTrusted = false, remoteHostTrusted = false\n",
      "2025-03-03 23:42:01,743 INFO sasl.SaslDataTransferClient: SASL encryption trust check: localHostTrusted = false, remoteHostTrusted = false\n",
      "2025-03-03 23:42:02,469 INFO sasl.SaslDataTransferClient: SASL encryption trust check: localHostTrusted = false, remoteHostTrusted = false\n",
      "2025-03-03 23:42:03,400 INFO sasl.SaslDataTransferClient: SASL encryption trust check: localHostTrusted = false, remoteHostTrusted = false\n",
      "2025-03-03 23:42:04,477 INFO sasl.SaslDataTransferClient: SASL encryption trust check: localHostTrusted = false, remoteHostTrusted = false\n",
      "2025-03-03 23:42:05,520 INFO sasl.SaslDataTransferClient: SASL encryption trust check: localHostTrusted = false, remoteHostTrusted = false\n",
      "2025-03-03 23:42:06,625 INFO sasl.SaslDataTransferClient: SASL encryption trust check: localHostTrusted = false, remoteHostTrusted = false\n",
      "2025-03-03 23:42:07,675 INFO sasl.SaslDataTransferClient: SASL encryption trust check: localHostTrusted = false, remoteHostTrusted = false\n",
      "2025-03-03 23:42:08,533 INFO sasl.SaslDataTransferClient: SASL encryption trust check: localHostTrusted = false, remoteHostTrusted = false\n",
      "2025-03-03 23:42:09,394 INFO sasl.SaslDataTransferClient: SASL encryption trust check: localHostTrusted = false, remoteHostTrusted = false\n",
      "2025-03-03 23:42:10,214 INFO sasl.SaslDataTransferClient: SASL encryption trust check: localHostTrusted = false, remoteHostTrusted = false\n",
      "2025-03-03 23:42:11,131 INFO sasl.SaslDataTransferClient: SASL encryption trust check: localHostTrusted = false, remoteHostTrusted = false\n",
      "2025-03-03 23:42:12,238 INFO sasl.SaslDataTransferClient: SASL encryption trust check: localHostTrusted = false, remoteHostTrusted = false\n",
      "2025-03-03 23:42:13,162 INFO sasl.SaslDataTransferClient: SASL encryption trust check: localHostTrusted = false, remoteHostTrusted = false\n",
      "2025-03-03 23:42:14,164 INFO sasl.SaslDataTransferClient: SASL encryption trust check: localHostTrusted = false, remoteHostTrusted = false\n",
      "2025-03-03 23:42:15,229 INFO sasl.SaslDataTransferClient: SASL encryption trust check: localHostTrusted = false, remoteHostTrusted = false\n",
      "2025-03-03 23:42:16,284 INFO sasl.SaslDataTransferClient: SASL encryption trust check: localHostTrusted = false, remoteHostTrusted = false\n",
      "2025-03-03 23:42:17,103 INFO sasl.SaslDataTransferClient: SASL encryption trust check: localHostTrusted = false, remoteHostTrusted = false\n",
      "2025-03-03 23:42:17,999 INFO sasl.SaslDataTransferClient: SASL encryption trust check: localHostTrusted = false, remoteHostTrusted = false\n",
      "2025-03-03 23:42:18,814 INFO sasl.SaslDataTransferClient: SASL encryption trust check: localHostTrusted = false, remoteHostTrusted = false\n",
      "2025-03-03 23:42:19,697 INFO sasl.SaslDataTransferClient: SASL encryption trust check: localHostTrusted = false, remoteHostTrusted = false\n",
      "2025-03-03 23:42:20,561 INFO sasl.SaslDataTransferClient: SASL encryption trust check: localHostTrusted = false, remoteHostTrusted = false\n",
      "2025-03-03 23:42:21,438 INFO sasl.SaslDataTransferClient: SASL encryption trust check: localHostTrusted = false, remoteHostTrusted = false\n",
      "2025-03-03 23:42:22,200 INFO sasl.SaslDataTransferClient: SASL encryption trust check: localHostTrusted = false, remoteHostTrusted = false\n",
      "2025-03-03 23:42:23,011 INFO sasl.SaslDataTransferClient: SASL encryption trust check: localHostTrusted = false, remoteHostTrusted = false\n",
      "2025-03-03 23:42:23,798 INFO sasl.SaslDataTransferClient: SASL encryption trust check: localHostTrusted = false, remoteHostTrusted = false\n",
      "2025-03-03 23:42:24,595 INFO sasl.SaslDataTransferClient: SASL encryption trust check: localHostTrusted = false, remoteHostTrusted = false\n",
      "2025-03-03 23:42:25,383 INFO sasl.SaslDataTransferClient: SASL encryption trust check: localHostTrusted = false, remoteHostTrusted = false\n",
      "2025-03-03 23:42:26,151 INFO sasl.SaslDataTransferClient: SASL encryption trust check: localHostTrusted = false, remoteHostTrusted = false\n",
      "2025-03-03 23:42:27,127 INFO sasl.SaslDataTransferClient: SASL encryption trust check: localHostTrusted = false, remoteHostTrusted = false\n",
      "2025-03-03 23:42:28,047 INFO sasl.SaslDataTransferClient: SASL encryption trust check: localHostTrusted = false, remoteHostTrusted = false\n",
      "2025-03-03 23:42:28,824 INFO sasl.SaslDataTransferClient: SASL encryption trust check: localHostTrusted = false, remoteHostTrusted = false\n",
      "2025-03-03 23:42:29,695 INFO sasl.SaslDataTransferClient: SASL encryption trust check: localHostTrusted = false, remoteHostTrusted = false\n",
      "2025-03-03 23:42:30,738 INFO sasl.SaslDataTransferClient: SASL encryption trust check: localHostTrusted = false, remoteHostTrusted = false\n",
      "2025-03-03 23:42:31,638 INFO sasl.SaslDataTransferClient: SASL encryption trust check: localHostTrusted = false, remoteHostTrusted = false\n",
      "2025-03-03 23:42:32,416 INFO sasl.SaslDataTransferClient: SASL encryption trust check: localHostTrusted = false, remoteHostTrusted = false\n",
      "2025-03-03 23:42:33,544 INFO sasl.SaslDataTransferClient: SASL encryption trust check: localHostTrusted = false, remoteHostTrusted = false\n",
      "2025-03-03 23:42:34,466 INFO sasl.SaslDataTransferClient: SASL encryption trust check: localHostTrusted = false, remoteHostTrusted = false\n",
      "2025-03-03 23:42:35,242 INFO sasl.SaslDataTransferClient: SASL encryption trust check: localHostTrusted = false, remoteHostTrusted = false\n",
      "2025-03-03 23:42:36,010 INFO sasl.SaslDataTransferClient: SASL encryption trust check: localHostTrusted = false, remoteHostTrusted = false\n",
      "2025-03-03 23:42:37,002 INFO sasl.SaslDataTransferClient: SASL encryption trust check: localHostTrusted = false, remoteHostTrusted = false\n",
      "2025-03-03 23:42:37,779 INFO sasl.SaslDataTransferClient: SASL encryption trust check: localHostTrusted = false, remoteHostTrusted = false\n",
      "2025-03-03 23:42:38,587 INFO sasl.SaslDataTransferClient: SASL encryption trust check: localHostTrusted = false, remoteHostTrusted = false\n",
      "2025-03-03 23:42:39,621 INFO sasl.SaslDataTransferClient: SASL encryption trust check: localHostTrusted = false, remoteHostTrusted = false\n",
      "2025-03-03 23:42:40,611 INFO sasl.SaslDataTransferClient: SASL encryption trust check: localHostTrusted = false, remoteHostTrusted = false\n",
      "2025-03-03 23:42:41,584 INFO sasl.SaslDataTransferClient: SASL encryption trust check: localHostTrusted = false, remoteHostTrusted = false\n",
      "2025-03-03 23:42:42,430 INFO sasl.SaslDataTransferClient: SASL encryption trust check: localHostTrusted = false, remoteHostTrusted = false\n",
      "2025-03-03 23:42:43,238 INFO sasl.SaslDataTransferClient: SASL encryption trust check: localHostTrusted = false, remoteHostTrusted = false\n",
      "2025-03-03 23:42:44,323 INFO sasl.SaslDataTransferClient: SASL encryption trust check: localHostTrusted = false, remoteHostTrusted = false\n",
      "2025-03-03 23:42:45,147 INFO sasl.SaslDataTransferClient: SASL encryption trust check: localHostTrusted = false, remoteHostTrusted = false\n",
      "2025-03-03 23:42:46,374 INFO sasl.SaslDataTransferClient: SASL encryption trust check: localHostTrusted = false, remoteHostTrusted = false\n",
      "2025-03-03 23:42:47,117 INFO sasl.SaslDataTransferClient: SASL encryption trust check: localHostTrusted = false, remoteHostTrusted = false\n",
      "2025-03-03 23:42:48,072 INFO sasl.SaslDataTransferClient: SASL encryption trust check: localHostTrusted = false, remoteHostTrusted = false\n",
      "2025-03-03 23:42:49,299 INFO sasl.SaslDataTransferClient: SASL encryption trust check: localHostTrusted = false, remoteHostTrusted = false\n",
      "2025-03-03 23:42:50,161 INFO sasl.SaslDataTransferClient: SASL encryption trust check: localHostTrusted = false, remoteHostTrusted = false\n",
      "2025-03-03 23:42:51,329 INFO sasl.SaslDataTransferClient: SASL encryption trust check: localHostTrusted = false, remoteHostTrusted = false\n",
      "2025-03-03 23:42:52,757 INFO sasl.SaslDataTransferClient: SASL encryption trust check: localHostTrusted = false, remoteHostTrusted = false\n",
      "2025-03-03 23:42:53,179 INFO sasl.SaslDataTransferClient: SASL encryption trust check: localHostTrusted = false, remoteHostTrusted = false\n",
      "2025-03-03 23:42:54,120 INFO sasl.SaslDataTransferClient: SASL encryption trust check: localHostTrusted = false, remoteHostTrusted = false\n",
      "2025-03-03 23:42:54,947 INFO sasl.SaslDataTransferClient: SASL encryption trust check: localHostTrusted = false, remoteHostTrusted = false\n",
      "2025-03-03 23:42:55,634 INFO sasl.SaslDataTransferClient: SASL encryption trust check: localHostTrusted = false, remoteHostTrusted = false\n",
      "2025-03-03 23:42:56,753 INFO sasl.SaslDataTransferClient: SASL encryption trust check: localHostTrusted = false, remoteHostTrusted = false\n",
      "2025-03-03 23:42:57,956 INFO sasl.SaslDataTransferClient: SASL encryption trust check: localHostTrusted = false, remoteHostTrusted = false\n",
      "2025-03-03 23:42:58,620 INFO sasl.SaslDataTransferClient: SASL encryption trust check: localHostTrusted = false, remoteHostTrusted = false\n",
      "2025-03-03 23:42:59,017 INFO sasl.SaslDataTransferClient: SASL encryption trust check: localHostTrusted = false, remoteHostTrusted = false\n",
      "2025-03-03 23:42:59,754 INFO sasl.SaslDataTransferClient: SASL encryption trust check: localHostTrusted = false, remoteHostTrusted = false\n",
      "2025-03-03 23:43:00,474 INFO sasl.SaslDataTransferClient: SASL encryption trust check: localHostTrusted = false, remoteHostTrusted = false\n",
      "2025-03-03 23:43:01,113 INFO sasl.SaslDataTransferClient: SASL encryption trust check: localHostTrusted = false, remoteHostTrusted = false\n",
      "2025-03-03 23:43:01,825 INFO sasl.SaslDataTransferClient: SASL encryption trust check: localHostTrusted = false, remoteHostTrusted = false\n",
      "2025-03-03 23:43:02,551 INFO sasl.SaslDataTransferClient: SASL encryption trust check: localHostTrusted = false, remoteHostTrusted = false\n",
      "2025-03-03 23:43:02,990 INFO sasl.SaslDataTransferClient: SASL encryption trust check: localHostTrusted = false, remoteHostTrusted = false\n",
      "2025-03-03 23:43:03,727 INFO sasl.SaslDataTransferClient: SASL encryption trust check: localHostTrusted = false, remoteHostTrusted = false\n",
      "2025-03-03 23:43:04,351 INFO sasl.SaslDataTransferClient: SASL encryption trust check: localHostTrusted = false, remoteHostTrusted = false\n",
      "2025-03-03 23:43:05,966 INFO sasl.SaslDataTransferClient: SASL encryption trust check: localHostTrusted = false, remoteHostTrusted = false\n",
      "2025-03-03 23:43:06,714 INFO sasl.SaslDataTransferClient: SASL encryption trust check: localHostTrusted = false, remoteHostTrusted = false\n",
      "2025-03-03 23:43:07,290 INFO sasl.SaslDataTransferClient: SASL encryption trust check: localHostTrusted = false, remoteHostTrusted = false\n",
      "2025-03-03 23:43:07,923 INFO sasl.SaslDataTransferClient: SASL encryption trust check: localHostTrusted = false, remoteHostTrusted = false\n",
      "2025-03-03 23:43:08,371 INFO sasl.SaslDataTransferClient: SASL encryption trust check: localHostTrusted = false, remoteHostTrusted = false\n",
      "2025-03-03 23:43:08,927 INFO sasl.SaslDataTransferClient: SASL encryption trust check: localHostTrusted = false, remoteHostTrusted = false\n",
      "2025-03-03 23:43:09,592 INFO sasl.SaslDataTransferClient: SASL encryption trust check: localHostTrusted = false, remoteHostTrusted = false\n",
      "2025-03-03 23:43:10,514 INFO sasl.SaslDataTransferClient: SASL encryption trust check: localHostTrusted = false, remoteHostTrusted = false\n",
      "2025-03-03 23:43:11,463 INFO sasl.SaslDataTransferClient: SASL encryption trust check: localHostTrusted = false, remoteHostTrusted = false\n",
      "2025-03-03 23:43:13,923 INFO sasl.SaslDataTransferClient: SASL encryption trust check: localHostTrusted = false, remoteHostTrusted = false\n",
      "2025-03-03 23:43:14,687 INFO sasl.SaslDataTransferClient: SASL encryption trust check: localHostTrusted = false, remoteHostTrusted = false\n",
      "2025-03-03 23:43:15,299 INFO sasl.SaslDataTransferClient: SASL encryption trust check: localHostTrusted = false, remoteHostTrusted = false\n",
      "2025-03-03 23:43:15,807 INFO sasl.SaslDataTransferClient: SASL encryption trust check: localHostTrusted = false, remoteHostTrusted = false\n",
      "2025-03-03 23:43:16,287 INFO sasl.SaslDataTransferClient: SASL encryption trust check: localHostTrusted = false, remoteHostTrusted = false\n",
      "2025-03-03 23:43:16,804 INFO sasl.SaslDataTransferClient: SASL encryption trust check: localHostTrusted = false, remoteHostTrusted = false\n",
      "2025-03-03 23:43:18,431 INFO sasl.SaslDataTransferClient: SASL encryption trust check: localHostTrusted = false, remoteHostTrusted = false\n",
      "2025-03-03 23:43:19,023 INFO sasl.SaslDataTransferClient: SASL encryption trust check: localHostTrusted = false, remoteHostTrusted = false\n",
      "2025-03-03 23:43:20,069 INFO sasl.SaslDataTransferClient: SASL encryption trust check: localHostTrusted = false, remoteHostTrusted = false\n",
      "2025-03-03 23:43:20,509 INFO sasl.SaslDataTransferClient: SASL encryption trust check: localHostTrusted = false, remoteHostTrusted = false\n",
      "2025-03-03 23:43:21,763 INFO sasl.SaslDataTransferClient: SASL encryption trust check: localHostTrusted = false, remoteHostTrusted = false\n",
      "2025-03-03 23:43:22,417 INFO sasl.SaslDataTransferClient: SASL encryption trust check: localHostTrusted = false, remoteHostTrusted = false\n",
      "2025-03-03 23:43:22,938 INFO sasl.SaslDataTransferClient: SASL encryption trust check: localHostTrusted = false, remoteHostTrusted = false\n",
      "2025-03-03 23:43:23,483 INFO sasl.SaslDataTransferClient: SASL encryption trust check: localHostTrusted = false, remoteHostTrusted = false\n",
      "2025-03-03 23:43:24,616 INFO sasl.SaslDataTransferClient: SASL encryption trust check: localHostTrusted = false, remoteHostTrusted = false\n",
      "2025-03-03 23:43:25,682 INFO sasl.SaslDataTransferClient: SASL encryption trust check: localHostTrusted = false, remoteHostTrusted = false\n",
      "2025-03-03 23:43:26,647 INFO sasl.SaslDataTransferClient: SASL encryption trust check: localHostTrusted = false, remoteHostTrusted = false\n",
      "2025-03-03 23:43:27,192 INFO sasl.SaslDataTransferClient: SASL encryption trust check: localHostTrusted = false, remoteHostTrusted = false\n",
      "2025-03-03 23:43:27,873 INFO sasl.SaslDataTransferClient: SASL encryption trust check: localHostTrusted = false, remoteHostTrusted = false\n",
      "2025-03-03 23:43:28,736 INFO sasl.SaslDataTransferClient: SASL encryption trust check: localHostTrusted = false, remoteHostTrusted = false\n",
      "2025-03-03 23:43:29,694 INFO sasl.SaslDataTransferClient: SASL encryption trust check: localHostTrusted = false, remoteHostTrusted = false\n",
      "2025-03-03 23:43:30,632 INFO sasl.SaslDataTransferClient: SASL encryption trust check: localHostTrusted = false, remoteHostTrusted = false\n",
      "2025-03-03 23:43:31,639 INFO sasl.SaslDataTransferClient: SASL encryption trust check: localHostTrusted = false, remoteHostTrusted = false\n",
      "2025-03-03 23:43:32,535 INFO sasl.SaslDataTransferClient: SASL encryption trust check: localHostTrusted = false, remoteHostTrusted = false\n",
      "2025-03-03 23:43:33,699 INFO sasl.SaslDataTransferClient: SASL encryption trust check: localHostTrusted = false, remoteHostTrusted = false\n",
      "2025-03-03 23:43:34,946 INFO sasl.SaslDataTransferClient: SASL encryption trust check: localHostTrusted = false, remoteHostTrusted = false\n",
      "2025-03-03 23:43:35,562 INFO sasl.SaslDataTransferClient: SASL encryption trust check: localHostTrusted = false, remoteHostTrusted = false\n",
      "2025-03-03 23:43:36,363 INFO sasl.SaslDataTransferClient: SASL encryption trust check: localHostTrusted = false, remoteHostTrusted = false\n",
      "2025-03-03 23:43:37,206 INFO sasl.SaslDataTransferClient: SASL encryption trust check: localHostTrusted = false, remoteHostTrusted = false\n",
      "2025-03-03 23:43:38,094 INFO sasl.SaslDataTransferClient: SASL encryption trust check: localHostTrusted = false, remoteHostTrusted = false\n"
     ]
    }
   ],
   "source": [
    "!~/hadoop/bin/hadoop dfs -put rows.csv /"
   ]
  },
  {
   "cell_type": "code",
   "execution_count": 18,
   "id": "b2d4b5d1-8e4b-4e33-bcb4-6cabc2ef3624",
   "metadata": {},
   "outputs": [
    {
     "name": "stdout",
     "output_type": "stream",
     "text": [
      "WARNING: Use of this script to execute dfs is deprecated.\n",
      "WARNING: Attempting to execute replacement \"hdfs dfs\" instead.\n",
      "\n",
      "Found 12 items\n",
      "-rw-r--r--   1 hadoop supergroup      85834 2025-01-20 15:17 /27045.txt\n",
      "drwxr-xr-x   - hadoop supergroup          0 2025-02-10 14:39 /data_hive\n",
      "-rw-r--r--   1 hadoop supergroup         50 2025-03-03 14:58 /demo2.txt\n",
      "drwxr-xr-x   - hadoop supergroup          0 2025-02-04 20:40 /gutenberg\n",
      "drwxr-xr-x   - hadoop supergroup          0 2025-02-17 13:46 /hbase_data\n",
      "drwxr-xr-x   - hadoop supergroup          0 2025-03-03 14:31 /movies_greater_than_four\n",
      "drwxr-xr-x   - hadoop supergroup          0 2025-03-03 14:24 /pig_data\n",
      "drwx-w----   - hadoop supergroup          0 2025-03-03 15:12 /tmp\n",
      "drwxr-xr-x   - hadoop supergroup          0 2025-02-10 14:54 /user1\n",
      "drwxr-xr-x   - hadoop supergroup          0 2025-02-04 20:42 /yellow_trip_output\n",
      "-rw-r--r--   1 hadoop supergroup 1708674492 2025-02-03 15:32 /yellow_tripdata_2016-01.csv\n",
      "-rw-r--r--   1 hadoop supergroup  431701740 2025-02-03 14:12 /yellow_tripdata_2016-01.csv.gz\n"
     ]
    }
   ],
   "source": [
    "!~/hadoop/bin/hadoop dfs -ls /"
   ]
  },
  {
   "cell_type": "code",
   "execution_count": null,
   "id": "09bf0e6b-ff58-4d58-867e-6771a9e2410b",
   "metadata": {},
   "outputs": [],
   "source": [
    "query_drop_table = \"DROP TABLE IF EXISTS yellow_taxi_2016;\"\n",
    "run_query(query_drop_table)"
   ]
  },
  {
   "cell_type": "code",
   "execution_count": null,
   "id": "e93c952a-a1b8-406f-aec2-8624af09dad0",
   "metadata": {},
   "outputs": [],
   "source": [
    "query_create_table = \"\"\"\n",
    "CREATE TABLE IF NOT EXISTS yellow_taxi_2016 (\n",
    "    VendorID INT,\n",
    "    tpep_pickup_datetime STRING,\n",
    "    tpep_dropoff_datetime STRING,\n",
    "    passenger_count INT,\n",
    "    trip_distance DOUBLE,\n",
    "    pickup_longitude DOUBLE,\n",
    "    pickup_latitude DOUBLE,\n",
    "    RatecodeID INT,\n",
    "    store_and_fwd_flag STRING,\n",
    "    dropoff_longitude DOUBLE,\n",
    "    dropoff_latitude DOUBLE,\n",
    "    payment_type INT,\n",
    "    fare_amount DOUBLE,\n",
    "    extra DOUBLE,\n",
    "    mta_tax DOUBLE,\n",
    "    tip_amount DOUBLE,\n",
    "    tolls_amount DOUBLE,\n",
    "    improvement_surcharge DOUBLE,\n",
    "    total_amount DOUBLE,\n",
    "    PULocationID INT,\n",
    "    DOLocationID INT\n",
    ")\n",
    "ROW FORMAT DELIMITED\n",
    "FIELDS TERMINATED BY ','\n",
    "TBLPROPERTIES(\"skip.header.line.count\"=\"1\")\n",
    "\"\"\"\n",
    "cur = conn.cursor()\n",
    "cur.execute(query_create_table)"
   ]
  },
  {
   "cell_type": "code",
   "execution_count": 5,
   "id": "1a533cf7-e4ea-4355-a953-0b9cca59bf61",
   "metadata": {},
   "outputs": [],
   "source": [
    "query_load_data = \"load data inpath 'hdfs://localhost:9000/rows.csv' INTO TABLE yellow_taxi_2016\"\n",
    "cur = conn.cursor()\n",
    "cur.execute(query_load_data)"
   ]
  },
  {
   "cell_type": "code",
   "execution_count": 108,
   "id": "4a8a1682-4cd5-4fc2-a263-0d13561cbb4a",
   "metadata": {},
   "outputs": [],
   "source": [
    "# 1) Location with most pickups in Jan 2016\n",
    "query1 = \"\"\"\n",
    "SELECT ROUND(pickup_latitude, 5) AS rounded_lat, \n",
    "       ROUND(pickup_longitude, 5) AS rounded_lon, \n",
    "       COUNT(*) AS pickup_count\n",
    "FROM yellow_taxi_2016\n",
    "WHERE FROM_UNIXTIME(UNIX_TIMESTAMP(tpep_pickup_datetime, 'MM/dd/yyyy hh:mm:ss a')) LIKE '2016-01-%'\n",
    "AND pickup_latitude <> 0 AND pickup_longitude <> 0\n",
    "GROUP BY ROUND(pickup_latitude, 5), ROUND(pickup_longitude, 5)\n",
    "ORDER BY pickup_count DESC\n",
    "LIMIT 1\n",
    "\"\"\"\n",
    "\n",
    "# 2) Day of the week with most trips in Jan 2016\n",
    "query2 = \"\"\"\n",
    "SELECT \n",
    "    FROM_UNIXTIME(UNIX_TIMESTAMP(tpep_pickup_datetime, 'MM/dd/yyyy hh:mm:ss a'), 'EEEE') AS day_of_week,\n",
    "    COUNT(*) AS trip_count\n",
    "FROM yellow_taxi_2016\n",
    "WHERE FROM_UNIXTIME(UNIX_TIMESTAMP(tpep_pickup_datetime, 'MM/dd/yyyy hh:mm:ss a')) LIKE '2016-01-%'\n",
    "GROUP BY FROM_UNIXTIME(UNIX_TIMESTAMP(tpep_pickup_datetime, 'MM/dd/yyyy hh:mm:ss a'), 'EEEE')\n",
    "ORDER BY trip_count DESC\n",
    "LIMIT 1\n",
    "\"\"\"\n",
    "\n",
    "# 3) Average distance for all trips in 2016\n",
    "query3 = \"SELECT AVG(trip_distance) AS avg_trip_distance FROM yellow_taxi_2016\"\n",
    "\n",
    "# 4) Top 5 frequent pickup locations in 2016\n",
    "query4 = \"\"\"\n",
    "SELECT ROUND(pickup_latitude, 5) AS rounded_lat, \n",
    "       ROUND(pickup_longitude, 5) AS rounded_lon, \n",
    "       COUNT(*) AS pickup_count\n",
    "FROM yellow_taxi_2016\n",
    "WHERE pickup_latitude <> 0 AND pickup_longitude <> 0\n",
    "GROUP BY ROUND(pickup_latitude, 5), ROUND(pickup_longitude, 5)\n",
    "ORDER BY pickup_count DESC\n",
    "LIMIT 5\n",
    "\"\"\""
   ]
  },
  {
   "cell_type": "code",
   "execution_count": 102,
   "id": "440b3466-5071-4d5a-b271-6438f915095c",
   "metadata": {},
   "outputs": [
    {
     "name": "stdout",
     "output_type": "stream",
     "text": [
      "[(40.821, -73.95467, 1023)]\n"
     ]
    }
   ],
   "source": [
    "result1 = run_query(query1)\n",
    "print(result1)"
   ]
  },
  {
   "cell_type": "code",
   "execution_count": 107,
   "id": "d92eb88e-e1df-4885-9f9b-8979d7897e67",
   "metadata": {},
   "outputs": [
    {
     "name": "stdout",
     "output_type": "stream",
     "text": [
      "[('Friday', 1972597)]\n"
     ]
    }
   ],
   "source": [
    "result2 = run_query(query2)\n",
    "print(result2)"
   ]
  },
  {
   "cell_type": "code",
   "execution_count": 104,
   "id": "eeb53291-48b5-4bcf-80d1-b1f4d82983ea",
   "metadata": {},
   "outputs": [
    {
     "name": "stdout",
     "output_type": "stream",
     "text": [
      "[(4.768565009352323,)]\n"
     ]
    }
   ],
   "source": [
    "result3 = run_query(query3)\n",
    "print(result3)"
   ]
  },
  {
   "cell_type": "code",
   "execution_count": 109,
   "id": "db49f392-e38a-4b8e-94e3-03ef864cd78b",
   "metadata": {},
   "outputs": [
    {
     "name": "stdout",
     "output_type": "stream",
     "text": [
      "[(40.821, -73.95467, 1524), (40.64539, -73.7767, 1308), (40.64537, -73.7767, 1254), (40.77377, -73.8709, 1208), (40.77375, -73.8709, 1067)]\n"
     ]
    }
   ],
   "source": [
    "result4 = run_query(query4)\n",
    "print(result4)"
   ]
  }
 ],
 "metadata": {
  "kernelspec": {
   "display_name": "Python 3 (ipykernel)",
   "language": "python",
   "name": "python3"
  },
  "language_info": {
   "codemirror_mode": {
    "name": "ipython",
    "version": 3
   },
   "file_extension": ".py",
   "mimetype": "text/x-python",
   "name": "python",
   "nbconvert_exporter": "python",
   "pygments_lexer": "ipython3",
   "version": "3.10.12"
  }
 },
 "nbformat": 4,
 "nbformat_minor": 5
}
